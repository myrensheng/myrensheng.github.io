{
 "cells": [
  {
   "cell_type": "markdown",
   "metadata": {},
   "source": [
    "## list\n",
    "python中最常用的数据存储方式，可以存储python中的所有数据类型。  \n",
    "\n",
    "既然能存储，自然也可以获取：\n",
    "- 可以切片获取list中的数据，\n",
    "- 也可以用for...in...循环遍历数据，\n",
    "- 还可以用列表表达式获取数据。  \n",
    "\n",
    "python内置的对list的操作方法：\n",
    "- “+”，将两个list合并（生成一个新的list）\n",
    "- append()，“追加”，将元素一个一个的放到list的后面（操作原list）\n",
    "- extend()，“延伸”，效果与“+”一样（操作原list）\n",
    "- len()，获取列表的长度\n",
    "- max()，列表中的最大值\n",
    "- min(),列表中的最小值\n",
    "- sorted()，列表排序"
   ]
  },
  {
   "cell_type": "markdown",
   "metadata": {},
   "source": [
    "### 获取list中的数据"
   ]
  },
  {
   "cell_type": "code",
   "execution_count": 1,
   "metadata": {},
   "outputs": [
    {
     "name": "stdout",
     "output_type": "stream",
     "text": [
      "['A', 1, 2.0, ['hello', 'world'], {'name': 'zs'}, ('age', 24), {12, 21, 23}]\n"
     ]
    }
   ],
   "source": [
    "# 存储str，int，float，list，dict，tuple，set\n",
    "first_list = [\"A\",1,2.0,[\"hello\",\"world\"],{\"name\":\"zs\"},(\"age\",24),{23,21,12}]\n",
    "print(first_list)"
   ]
  },
  {
   "cell_type": "code",
   "execution_count": 2,
   "metadata": {},
   "outputs": [
    {
     "name": "stdout",
     "output_type": "stream",
     "text": [
      "a: A\n",
      "b: 1\n",
      "c {12, 21, 23}\n",
      "d: [2.0, ['hello', 'world']]\n"
     ]
    }
   ],
   "source": [
    "# 索引获取list中的元素，python中的索引都是以0开始，即0表示第一个元素\n",
    "a = first_list[0]\n",
    "print(\"a:\",a)\n",
    "b = first_list[1]\n",
    "print(\"b:\",b)\n",
    "c = first_list[-1]\n",
    "print(\"c\",c)\n",
    "d = first_list[2:4]\n",
    "print(\"d:\",d)"
   ]
  },
  {
   "cell_type": "markdown",
   "metadata": {},
   "source": [
    "还可以用for循环遍历list"
   ]
  },
  {
   "cell_type": "code",
   "execution_count": 3,
   "metadata": {},
   "outputs": [
    {
     "name": "stdout",
     "output_type": "stream",
     "text": [
      "A\n",
      "1\n",
      "2.0\n",
      "['hello', 'world']\n",
      "{'name': 'zs'}\n",
      "('age', 24)\n",
      "{12, 21, 23}\n"
     ]
    }
   ],
   "source": [
    "# for循环遍历list中的元素值\n",
    "for v in first_list:\n",
    "    print(v)"
   ]
  },
  {
   "cell_type": "code",
   "execution_count": 4,
   "metadata": {},
   "outputs": [
    {
     "name": "stdout",
     "output_type": "stream",
     "text": [
      "0 : A\n",
      "1 : 1\n",
      "2 : 2.0\n",
      "3 : ['hello', 'world']\n",
      "4 : {'name': 'zs'}\n",
      "5 : ('age', 24)\n",
      "6 : {12, 21, 23}\n"
     ]
    }
   ],
   "source": [
    "# for循环遍历list中的索引和元素值\n",
    "for i,v in enumerate(first_list):\n",
    "    print(i,\":\",v)"
   ]
  },
  {
   "cell_type": "markdown",
   "metadata": {},
   "source": [
    "python中独有的列表表达式（**常用的操作**）"
   ]
  },
  {
   "cell_type": "code",
   "execution_count": 5,
   "metadata": {},
   "outputs": [],
   "source": [
    "# 一个人名列表\n",
    "name_list = [\"AAA\",\"BBB\",\"CCC\",\"DDD\",\"EEE\",\"FFF\"]\n",
    "# 一个坏人的人名列表\n",
    "bad_people_name_list = [\"DDD\",\"FFF\",\"EEE\",\"GGG\"]\n",
    "# 在name_list中找出在bad_people_name_list中的数据"
   ]
  },
  {
   "cell_type": "markdown",
   "metadata": {},
   "source": [
    "**常规操作**"
   ]
  },
  {
   "cell_type": "code",
   "execution_count": 6,
   "metadata": {},
   "outputs": [
    {
     "name": "stdout",
     "output_type": "stream",
     "text": [
      "bad_people: DDD\n",
      "bad_people: FFF\n",
      "bad_people: EEE\n"
     ]
    }
   ],
   "source": [
    "for bad in bad_people_name_list:\n",
    "    if bad in name_list:\n",
    "        print(\"bad_people:\",bad)"
   ]
  },
  {
   "cell_type": "markdown",
   "metadata": {},
   "source": [
    "**骚操作**"
   ]
  },
  {
   "cell_type": "code",
   "execution_count": 7,
   "metadata": {},
   "outputs": [
    {
     "name": "stdout",
     "output_type": "stream",
     "text": [
      "['bad_people:DDD', 'bad_people:FFF', 'bad_people:EEE']\n"
     ]
    }
   ],
   "source": [
    "bad_people = [\"bad_people:{0}\".format(bad) for bad in bad_people_name_list if bad in name_list]\n",
    "print(bad_people)"
   ]
  },
  {
   "cell_type": "markdown",
   "metadata": {},
   "source": [
    "**更骚的操作**"
   ]
  },
  {
   "cell_type": "code",
   "execution_count": 8,
   "metadata": {},
   "outputs": [
    {
     "name": "stdout",
     "output_type": "stream",
     "text": [
      "{'DDD', 'FFF', 'EEE'}\n"
     ]
    }
   ],
   "source": [
    "# 集合的并集\n",
    "print(set(name_list)&set(bad_people_name_list))"
   ]
  },
  {
   "cell_type": "markdown",
   "metadata": {},
   "source": [
    "### 内置的list方法"
   ]
  },
  {
   "cell_type": "code",
   "execution_count": 9,
   "metadata": {},
   "outputs": [
    {
     "name": "stdout",
     "output_type": "stream",
     "text": [
      "['hello', 'world']\n"
     ]
    }
   ],
   "source": [
    "# “+”\n",
    "list1 = [\"hello\"]\n",
    "list2 = [\"world\"]\n",
    "list3 = list1+list2\n",
    "print(list3)"
   ]
  },
  {
   "cell_type": "code",
   "execution_count": 10,
   "metadata": {},
   "outputs": [
    {
     "name": "stdout",
     "output_type": "stream",
     "text": [
      "['hello', ['world']]\n"
     ]
    }
   ],
   "source": [
    "# append()，将list2整个放到list1的后面\n",
    "list1 = [\"hello\"]\n",
    "list2 = [\"world\"]\n",
    "list1.append(list2)\n",
    "print(list1)"
   ]
  },
  {
   "cell_type": "code",
   "execution_count": 11,
   "metadata": {},
   "outputs": [
    {
     "name": "stdout",
     "output_type": "stream",
     "text": [
      "['hello', 'world']\n"
     ]
    }
   ],
   "source": [
    "# extend()，将list2中的元素放到list1后面\n",
    "list1 = [\"hello\"]\n",
    "list2 = [\"world\"]\n",
    "list1.extend(list2)\n",
    "print(list1)"
   ]
  },
  {
   "cell_type": "code",
   "execution_count": 12,
   "metadata": {},
   "outputs": [
    {
     "name": "stdout",
     "output_type": "stream",
     "text": [
      "列表长度： 6\n",
      "列表中最大值： 18\n",
      "列表中最小值： 12\n",
      "列表升序排列： [12, 13, 14, 15, 17, 18]\n",
      "列表降序排列： [18, 17, 15, 14, 13, 12]\n"
     ]
    }
   ],
   "source": [
    "list4 = [12,13,14,15,17,18]\n",
    "print(\"列表长度：\",len(list4))\n",
    "print(\"列表中最大值：\",max(list4))\n",
    "print(\"列表中最小值：\",min(list4))\n",
    "print(\"列表升序排列：\",sorted(list4,reverse=False))\n",
    "print(\"列表降序排列：\",sorted(list4,reverse=True))"
   ]
  },
  {
   "cell_type": "markdown",
   "metadata": {},
   "source": [
    "## dict()\n",
    "字典，数据存储类型：{key:value}。key是唯一的，value可以是任何python类型的数据  \n",
    "例如：{\"name\":\"zs\",\"age\":24,\"hobby\":\\[\"basketball\",\"music\"\\]}  \n",
    "\n",
    "获取字典中的数据：\n",
    "- 根据key获取value数据\n",
    "- **get()获取数据（推荐）**\n",
    "- dict.keys()获取所有的key数据\n",
    "- dict.values() 获取所有的value数据\n",
    "- dict.items() 获取dict中的key，value数据\n",
    "- for ... in ...循环遍历字典  \n",
    "\n",
    "在后端项目中，经常与json数据联用：\n",
    "- json.loads()和json.dumps()"
   ]
  },
  {
   "cell_type": "markdown",
   "metadata": {},
   "source": [
    "### 获取字典数据"
   ]
  },
  {
   "cell_type": "code",
   "execution_count": 13,
   "metadata": {},
   "outputs": [
    {
     "name": "stdout",
     "output_type": "stream",
     "text": [
      "zs\n",
      "zs\n"
     ]
    }
   ],
   "source": [
    "info_dict = {\"name\":\"zs\",\"age\":24,\"hobby\":[\"basketball\",\"music\"]}  \n",
    "print(info_dict[\"name\"])\n",
    "print(info_dict.get(\"name\"))"
   ]
  },
  {
   "cell_type": "code",
   "execution_count": 15,
   "metadata": {},
   "outputs": [
    {
     "ename": "KeyError",
     "evalue": "'sex'",
     "output_type": "error",
     "traceback": [
      "\u001b[0;31m---------------------------------------------------------------------------\u001b[0m",
      "\u001b[0;31mKeyError\u001b[0m                                  Traceback (most recent call last)",
      "\u001b[0;32m<ipython-input-15-64cabd6363a0>\u001b[0m in \u001b[0;36m<module>\u001b[0;34m()\u001b[0m\n\u001b[1;32m      1\u001b[0m \u001b[0;31m# 推荐get，主要是因为当查找的key不存在时,返回None，程序不会报异常\u001b[0m\u001b[0;34m\u001b[0m\u001b[0;34m\u001b[0m\u001b[0;34m\u001b[0m\u001b[0m\n\u001b[0;32m----> 2\u001b[0;31m \u001b[0minfo_dict\u001b[0m\u001b[0;34m[\u001b[0m\u001b[0;34m\"sex\"\u001b[0m\u001b[0;34m]\u001b[0m\u001b[0;34m\u001b[0m\u001b[0;34m\u001b[0m\u001b[0m\n\u001b[0m",
      "\u001b[0;31mKeyError\u001b[0m: 'sex'"
     ]
    }
   ],
   "source": [
    "# 推荐get，主要是因为当查找的key不存在时,返回None，程序不会报异常\n",
    "info_dict[\"sex\"]"
   ]
  },
  {
   "cell_type": "code",
   "execution_count": null,
   "metadata": {},
   "outputs": [],
   "source": [
    "print(info_dict.get(\"sex\"))"
   ]
  },
  {
   "cell_type": "code",
   "execution_count": null,
   "metadata": {},
   "outputs": [],
   "source": [
    "print(info_dict.keys())\n",
    "print(info_dict.values())"
   ]
  },
  {
   "cell_type": "code",
   "execution_count": null,
   "metadata": {},
   "outputs": [],
   "source": [
    "# for in 获取字典的key和value\n",
    "for k,v in info_dict.items():\n",
    "    print(k,\":\",v)"
   ]
  },
  {
   "cell_type": "code",
   "execution_count": null,
   "metadata": {},
   "outputs": [],
   "source": [
    "# 获取字典的index和key数据\n",
    "for i,k in enumerate(info_dict):\n",
    "    print(i,\";\",k)"
   ]
  },
  {
   "cell_type": "markdown",
   "metadata": {},
   "source": [
    "### dict与json转换\n",
    "- json.dumps()，将dict转为json\n",
    "- json.loads()，将json转为dict\n",
    "***\n",
    "- json.dump()和json.load()，将转化的是文件对象"
   ]
  },
  {
   "cell_type": "code",
   "execution_count": 16,
   "metadata": {},
   "outputs": [
    {
     "name": "stdout",
     "output_type": "stream",
     "text": [
      "{\"name\": \"zs\", \"age\": 24, \"hobby\": [\"basketball\", \"music\"]}\n",
      "<class 'str'>\n"
     ]
    }
   ],
   "source": [
    "import json\n",
    "# dict转化为json\n",
    "json_data = json.dumps(info_dict)\n",
    "print(json_data)\n",
    "print(type(json_data))"
   ]
  },
  {
   "cell_type": "code",
   "execution_count": 17,
   "metadata": {},
   "outputs": [
    {
     "name": "stdout",
     "output_type": "stream",
     "text": [
      "{'name': 'zs', 'age': 24, 'hobby': ['basketball', 'music']}\n",
      "<class 'dict'>\n"
     ]
    }
   ],
   "source": [
    "# json转为dict\n",
    "dict_data = json.loads(json_data)\n",
    "print(dict_data)\n",
    "print(type(dict_data))"
   ]
  },
  {
   "cell_type": "markdown",
   "metadata": {},
   "source": [
    "## tuple()\n",
    "元组，元组内的数据不能更改。函数的多个返回结果，是元组形式。"
   ]
  },
  {
   "cell_type": "code",
   "execution_count": 18,
   "metadata": {},
   "outputs": [
    {
     "name": "stdout",
     "output_type": "stream",
     "text": [
      "hello\n",
      "world\n"
     ]
    }
   ],
   "source": [
    "t1 = (\"hello\",\"world\")\n",
    "print(t1[0])\n",
    "print(t1[1])"
   ]
  },
  {
   "cell_type": "markdown",
   "metadata": {},
   "source": [
    "## set()\n",
    "集合，无序不重复。空集合用set()创建\n",
    "- 用集合对list数据去重\n",
    "- 用集合的交集操作，查找多个list中相交的部分\n",
    "- 用集合操作对list去重并排序"
   ]
  },
  {
   "cell_type": "code",
   "execution_count": 19,
   "metadata": {},
   "outputs": [
    {
     "name": "stdout",
     "output_type": "stream",
     "text": [
      "列表去重： {12, 13, 14, 15}\n",
      "列表并集： {12, 13, 14, 15, 16, 17, 19}\n",
      "列表交集： {12, 14}\n",
      "列表去重排序： [19, 17, 16, 14, 12]\n"
     ]
    }
   ],
   "source": [
    "list1 = [12,12,12,12,13,13,14,15]\n",
    "list2 = [12,14,14,16,17,19]\n",
    "print(\"列表去重：\",set(list1))\n",
    "print(\"列表并集：\",set(list1)|set(list2))\n",
    "print(\"列表交集：\",set(list1)&set(list2))\n",
    "print(\"列表去重排序：\",sorted(list(set(list2)),reverse=True))"
   ]
  },
  {
   "cell_type": "code",
   "execution_count": null,
   "metadata": {},
   "outputs": [],
   "source": []
  },
  {
   "cell_type": "markdown",
   "metadata": {},
   "source": [
    "## 循环与条件空值\n",
    "循环语句\n",
    "- for..in...循环，经常作用于list,dict数据，还有与range()结合使用\n",
    "- while循环，不怎么用，也不建议用，死循环就很尴尬啦，还是for...in...香  \n",
    "\n",
    "条件语句\n",
    "- if..else...\n",
    "- if...elif....elif...else..."
   ]
  },
  {
   "cell_type": "markdown",
   "metadata": {},
   "source": [
    "### 循环"
   ]
  },
  {
   "cell_type": "code",
   "execution_count": 20,
   "metadata": {},
   "outputs": [
    {
     "name": "stdout",
     "output_type": "stream",
     "text": [
      "你\n",
      "好\n",
      "世界\n",
      "!\n"
     ]
    }
   ],
   "source": [
    "# for..in...\n",
    "for v in [\"你\",\"好\",\"世界\",\"!\"]:\n",
    "    print(v)"
   ]
  },
  {
   "cell_type": "code",
   "execution_count": 21,
   "metadata": {},
   "outputs": [
    {
     "name": "stdout",
     "output_type": "stream",
     "text": [
      "[1, 3, 5, 7, 9, 11, 13, 15, 17, 19]\n"
     ]
    }
   ],
   "source": [
    "# 打印1，3,5,7,9,11,13,15,17,19\n",
    "list_ = [i for i in range(1,20,2)]\n",
    "print(list_)"
   ]
  },
  {
   "cell_type": "code",
   "execution_count": 22,
   "metadata": {},
   "outputs": [
    {
     "name": "stdout",
     "output_type": "stream",
     "text": [
      "输入q退出：a\n",
      "输入q退出：q\n",
      "退出\n"
     ]
    }
   ],
   "source": [
    "# while\n",
    "status = True\n",
    "while status:\n",
    "    input_str = input(\"输入q退出：\")\n",
    "    if input_str == 'q':\n",
    "        print(\"退出\")\n",
    "        status = False\n"
   ]
  },
  {
   "cell_type": "markdown",
   "metadata": {},
   "source": [
    "### 条件控制"
   ]
  },
  {
   "cell_type": "code",
   "execution_count": 23,
   "metadata": {},
   "outputs": [
    {
     "name": "stdout",
     "output_type": "stream",
     "text": [
      "年龄：24\n",
      "性别：男\n",
      "春秋鼎盛\n"
     ]
    }
   ],
   "source": [
    "age = int(input(\"年龄：\"))\n",
    "sex = input(\"性别：\")\n",
    "if 0<age<=10:\n",
    "    if age<=1:\n",
    "        print(\"襁褓\")\n",
    "    elif age <=3:\n",
    "        print(\"孩提\")\n",
    "    elif age==7and sex==\"女\":\n",
    "        print(\"髫年\")\n",
    "    elif age==8 and sex==\"男\":\n",
    "        print(\"龆年\")\n",
    "    else:\n",
    "        print(\"总角\")\n",
    "elif 10<age<=15:\n",
    "    if age==12 and sex==\"女\":\n",
    "        print(\"金钗之年\")\n",
    "    elif age==12 and sex==\"女\":\n",
    "        print(\"豆蔻年华\")\n",
    "    elif age==15 and sex==\"女\":\n",
    "        print(\"及笄之年\")\n",
    "    elif age==15 and sex==\"男\":\n",
    "        print(\"志学之年\")\n",
    "    else:\n",
    "        print(\"舞勺之年\")\n",
    "elif 15<age<=20:\n",
    "    if age==16 and sex==\"女\":\n",
    "        print(\"破瓜年华、碧玉年华,二八年华\")\n",
    "    if age ==20 and sex==\"女\":\n",
    "        print(\"桃李年华\")\n",
    "    if age ==20 and sex==\"男\":\n",
    "        print(\"弱冠\")\n",
    "    else:\n",
    "        print(\"舞象之年\")\n",
    "elif 20<age<50:\n",
    "    if age==24 and sex==\"女\":\n",
    "        print(\"花信年华\")\n",
    "    if age==30 and sex==\"男\":\n",
    "        print(\"而立之年\")\n",
    "    if age==40 and sex==\"男\":\n",
    "        print(\"不惑之年、强壮之年\")\n",
    "    if sex==\"女\":\n",
    "        print(\"半老徐娘\")\n",
    "    else:\n",
    "        print(\"春秋鼎盛\")\n",
    "elif 50<=age<60:\n",
    "    print(\"年逾半百、知非之年、知命之年、艾服之年、大衍之年\")\n",
    "elif 60<=age<70:\n",
    "    print(\"花甲、平头甲子、耳顺之年、杖乡之年、还历之年\")\n",
    "elif 70<=age<80:\n",
    "    print(\"古稀、杖国之年、致事之年、致政之年，从心之年、悬车之年\")\n",
    "elif 80<=age<=100:\n",
    "    if age<90:\n",
    "        print(\"耄耋之年\")\n",
    "    if age==90:\n",
    "        print(\"鲐背之年\")\n",
    "    else:\n",
    "        print(\"期颐,又可称为“人瑞”\")\n",
    "else:\n",
    "    print(\"没有对应的称谓\")"
   ]
  },
  {
   "cell_type": "code",
   "execution_count": null,
   "metadata": {},
   "outputs": [],
   "source": []
  },
  {
   "cell_type": "code",
   "execution_count": null,
   "metadata": {},
   "outputs": [],
   "source": []
  }
 ],
 "metadata": {
  "kernelspec": {
   "display_name": "Python 3",
   "language": "python",
   "name": "python3"
  },
  "language_info": {
   "codemirror_mode": {
    "name": "ipython",
    "version": 3
   },
   "file_extension": ".py",
   "mimetype": "text/x-python",
   "name": "python",
   "nbconvert_exporter": "python",
   "pygments_lexer": "ipython3",
   "version": "3.7.3"
  }
 },
 "nbformat": 4,
 "nbformat_minor": 2
}
